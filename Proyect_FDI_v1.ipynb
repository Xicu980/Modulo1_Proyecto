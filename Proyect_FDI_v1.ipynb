{
 "cells": [
  {
   "cell_type": "code",
   "execution_count": 3,
   "metadata": {},
   "outputs": [],
   "source": [
    "# Se importan la libreria necesaria para el proyecto\n",
    "\n",
    "import pandas as pd\n",
    "import numpy as np\n",
    "import matplotlib.pyplot as plt\n",
    "import seaborn as sns\n",
    "import plotly.express as px\n",
    "# import ssl\n",
    "# ssl._create_default_https_context = ssl._create_unverified_context\n",
    "import os\n",
    "# %pip install scikit-learn\n",
    "from sklearn.linear_model import LinearRegression\n",
    "from datetime import timedelta\n",
    "from sklearn.model_selection import train_test_split\n",
    "from sklearn.ensemble import RandomForestRegressor\n",
    "from sklearn.metrics import root_mean_squared_error\n",
    "from sklearn.impute import SimpleImputer"
   ]
  },
  {
   "cell_type": "code",
   "execution_count": 2,
   "metadata": {},
   "outputs": [],
   "source": [
    "# Leemos el archivos cvs\n",
    "\n",
    "df = pd.read_csv('/Users/fdi/Documents/GitHub/Modulo1_Proyecto/mcp_1.csv')"
   ]
  },
  {
   "cell_type": "code",
   "execution_count": 3,
   "metadata": {},
   "outputs": [
    {
     "data": {
      "text/html": [
       "<div>\n",
       "<style scoped>\n",
       "    .dataframe tbody tr th:only-of-type {\n",
       "        vertical-align: middle;\n",
       "    }\n",
       "\n",
       "    .dataframe tbody tr th {\n",
       "        vertical-align: top;\n",
       "    }\n",
       "\n",
       "    .dataframe thead th {\n",
       "        text-align: right;\n",
       "    }\n",
       "</style>\n",
       "<table border=\"1\" class=\"dataframe\">\n",
       "  <thead>\n",
       "    <tr style=\"text-align: right;\">\n",
       "      <th></th>\n",
       "      <th>Campaign_ID</th>\n",
       "      <th>Channel</th>\n",
       "      <th>Product_Category</th>\n",
       "      <th>Region</th>\n",
       "      <th>Budget</th>\n",
       "      <th>Spend</th>\n",
       "      <th>Impressions</th>\n",
       "      <th>Clicks</th>\n",
       "      <th>CTR</th>\n",
       "      <th>Conversions</th>\n",
       "      <th>CR</th>\n",
       "      <th>Revenue</th>\n",
       "      <th>ROI</th>\n",
       "      <th>Duration</th>\n",
       "      <th>Start_Date</th>\n",
       "      <th>End_Date</th>\n",
       "      <th>Customer_Satisfaction</th>\n",
       "      <th>Campaign_Effectiveness</th>\n",
       "      <th>Market_Segment</th>\n",
       "    </tr>\n",
       "  </thead>\n",
       "  <tbody>\n",
       "    <tr>\n",
       "      <th>0</th>\n",
       "      <td>CAM0001</td>\n",
       "      <td>Billboard</td>\n",
       "      <td>Fashion</td>\n",
       "      <td>Kuala Lumpur</td>\n",
       "      <td>484341.0</td>\n",
       "      <td>197038.0</td>\n",
       "      <td>545901.0</td>\n",
       "      <td>NaN</td>\n",
       "      <td>0.0785</td>\n",
       "      <td>7993.0</td>\n",
       "      <td>0.3414</td>\n",
       "      <td>849005.0</td>\n",
       "      <td>0.64</td>\n",
       "      <td>212.0</td>\n",
       "      <td>2/3/2023</td>\n",
       "      <td>23/12/2023</td>\n",
       "      <td>3.0</td>\n",
       "      <td>3.0</td>\n",
       "      <td>Medium</td>\n",
       "    </tr>\n",
       "    <tr>\n",
       "      <th>1</th>\n",
       "      <td>CAM0002</td>\n",
       "      <td>NaN</td>\n",
       "      <td>Health</td>\n",
       "      <td>Sarawak</td>\n",
       "      <td>468792.0</td>\n",
       "      <td>33743.0</td>\n",
       "      <td>527513.0</td>\n",
       "      <td>4130.0</td>\n",
       "      <td>0.9479</td>\n",
       "      <td>9459.0</td>\n",
       "      <td>NaN</td>\n",
       "      <td>921078.0</td>\n",
       "      <td>3.78</td>\n",
       "      <td>29.0</td>\n",
       "      <td>NaN</td>\n",
       "      <td>NaN</td>\n",
       "      <td>3.0</td>\n",
       "      <td>7.0</td>\n",
       "      <td>Medium</td>\n",
       "    </tr>\n",
       "    <tr>\n",
       "      <th>2</th>\n",
       "      <td>CAM0003</td>\n",
       "      <td>Radio</td>\n",
       "      <td>Electronics</td>\n",
       "      <td>Penang</td>\n",
       "      <td>10487.0</td>\n",
       "      <td>6745.0</td>\n",
       "      <td>806911.0</td>\n",
       "      <td>12209.0</td>\n",
       "      <td>NaN</td>\n",
       "      <td>7168.0</td>\n",
       "      <td>0.0517</td>\n",
       "      <td>51142.0</td>\n",
       "      <td>3.64</td>\n",
       "      <td>74.0</td>\n",
       "      <td>12/4/2023</td>\n",
       "      <td>20/10/2023</td>\n",
       "      <td>1.0</td>\n",
       "      <td>2.0</td>\n",
       "      <td>Medium</td>\n",
       "    </tr>\n",
       "    <tr>\n",
       "      <th>3</th>\n",
       "      <td>CAM0004</td>\n",
       "      <td>Email</td>\n",
       "      <td>Electronics</td>\n",
       "      <td>Penang</td>\n",
       "      <td>345431.0</td>\n",
       "      <td>329112.0</td>\n",
       "      <td>108570.0</td>\n",
       "      <td>34391.0</td>\n",
       "      <td>0.6157</td>\n",
       "      <td>7190.0</td>\n",
       "      <td>0.3579</td>\n",
       "      <td>191887.0</td>\n",
       "      <td>2.64</td>\n",
       "      <td>67.0</td>\n",
       "      <td>24/4/2023</td>\n",
       "      <td>26/1/2023</td>\n",
       "      <td>5.0</td>\n",
       "      <td>6.0</td>\n",
       "      <td>High</td>\n",
       "    </tr>\n",
       "    <tr>\n",
       "      <th>4</th>\n",
       "      <td>CAM0005</td>\n",
       "      <td>Radio</td>\n",
       "      <td>Fashion</td>\n",
       "      <td>Kuala Lumpur</td>\n",
       "      <td>322345.0</td>\n",
       "      <td>34365.0</td>\n",
       "      <td>799855.0</td>\n",
       "      <td>13056.0</td>\n",
       "      <td>NaN</td>\n",
       "      <td>1794.0</td>\n",
       "      <td>0.0544</td>\n",
       "      <td>167241.0</td>\n",
       "      <td>1.02</td>\n",
       "      <td>40.0</td>\n",
       "      <td>10/1/2023</td>\n",
       "      <td>1/1/2023</td>\n",
       "      <td>5.0</td>\n",
       "      <td>6.0</td>\n",
       "      <td>Low</td>\n",
       "    </tr>\n",
       "  </tbody>\n",
       "</table>\n",
       "</div>"
      ],
      "text/plain": [
       "  Campaign_ID    Channel Product_Category        Region    Budget     Spend  \\\n",
       "0     CAM0001  Billboard          Fashion  Kuala Lumpur  484341.0  197038.0   \n",
       "1     CAM0002        NaN           Health       Sarawak  468792.0   33743.0   \n",
       "2     CAM0003      Radio      Electronics        Penang   10487.0    6745.0   \n",
       "3     CAM0004      Email      Electronics        Penang  345431.0  329112.0   \n",
       "4     CAM0005      Radio          Fashion  Kuala Lumpur  322345.0   34365.0   \n",
       "\n",
       "   Impressions   Clicks     CTR  Conversions      CR   Revenue   ROI  \\\n",
       "0     545901.0      NaN  0.0785       7993.0  0.3414  849005.0  0.64   \n",
       "1     527513.0   4130.0  0.9479       9459.0     NaN  921078.0  3.78   \n",
       "2     806911.0  12209.0     NaN       7168.0  0.0517   51142.0  3.64   \n",
       "3     108570.0  34391.0  0.6157       7190.0  0.3579  191887.0  2.64   \n",
       "4     799855.0  13056.0     NaN       1794.0  0.0544  167241.0  1.02   \n",
       "\n",
       "   Duration Start_Date    End_Date  Customer_Satisfaction  \\\n",
       "0     212.0   2/3/2023  23/12/2023                    3.0   \n",
       "1      29.0        NaN         NaN                    3.0   \n",
       "2      74.0  12/4/2023  20/10/2023                    1.0   \n",
       "3      67.0  24/4/2023   26/1/2023                    5.0   \n",
       "4      40.0  10/1/2023    1/1/2023                    5.0   \n",
       "\n",
       "   Campaign_Effectiveness Market_Segment  \n",
       "0                     3.0         Medium  \n",
       "1                     7.0         Medium  \n",
       "2                     2.0         Medium  \n",
       "3                     6.0           High  \n",
       "4                     6.0            Low  "
      ]
     },
     "execution_count": 3,
     "metadata": {},
     "output_type": "execute_result"
    }
   ],
   "source": [
    "df.head() #Mostramos las primeras y ultimas filas del Dataframe"
   ]
  },
  {
   "cell_type": "code",
   "execution_count": 4,
   "metadata": {},
   "outputs": [
    {
     "name": "stdout",
     "output_type": "stream",
     "text": [
      "<class 'pandas.core.frame.DataFrame'>\n",
      "RangeIndex: 5000 entries, 0 to 4999\n",
      "Data columns (total 19 columns):\n",
      " #   Column                  Non-Null Count  Dtype  \n",
      "---  ------                  --------------  -----  \n",
      " 0   Campaign_ID             4741 non-null   object \n",
      " 1   Channel                 4746 non-null   object \n",
      " 2   Product_Category        4733 non-null   object \n",
      " 3   Region                  4739 non-null   object \n",
      " 4   Budget                  4500 non-null   float64\n",
      " 5   Spend                   4501 non-null   float64\n",
      " 6   Impressions             4496 non-null   float64\n",
      " 7   Clicks                  4514 non-null   float64\n",
      " 8   CTR                     4502 non-null   float64\n",
      " 9   Conversions             4506 non-null   float64\n",
      " 10  CR                      4504 non-null   float64\n",
      " 11  Revenue                 4491 non-null   float64\n",
      " 12  ROI                     4505 non-null   float64\n",
      " 13  Duration                4521 non-null   float64\n",
      " 14  Start_Date              4741 non-null   object \n",
      " 15  End_Date                4743 non-null   object \n",
      " 16  Customer_Satisfaction   4508 non-null   float64\n",
      " 17  Campaign_Effectiveness  4510 non-null   float64\n",
      " 18  Market_Segment          4738 non-null   object \n",
      "dtypes: float64(12), object(7)\n",
      "memory usage: 742.3+ KB\n"
     ]
    }
   ],
   "source": [
    "df.info() #Mostramos infomaciones basicas del DataFrame"
   ]
  },
  {
   "cell_type": "code",
   "execution_count": 5,
   "metadata": {},
   "outputs": [
    {
     "data": {
      "text/plain": [
       "(5000, 19)"
      ]
     },
     "execution_count": 5,
     "metadata": {},
     "output_type": "execute_result"
    }
   ],
   "source": [
    "df.shape"
   ]
  },
  {
   "cell_type": "code",
   "execution_count": 6,
   "metadata": {},
   "outputs": [
    {
     "data": {
      "text/plain": [
       "Campaign_ID                object\n",
       "Channel                    object\n",
       "Product_Category           object\n",
       "Region                     object\n",
       "Budget                    float64\n",
       "Spend                     float64\n",
       "Impressions               float64\n",
       "Clicks                    float64\n",
       "CTR                       float64\n",
       "Conversions               float64\n",
       "CR                        float64\n",
       "Revenue                   float64\n",
       "ROI                       float64\n",
       "Duration                  float64\n",
       "Start_Date                 object\n",
       "End_Date                   object\n",
       "Customer_Satisfaction     float64\n",
       "Campaign_Effectiveness    float64\n",
       "Market_Segment             object\n",
       "dtype: object"
      ]
     },
     "execution_count": 6,
     "metadata": {},
     "output_type": "execute_result"
    }
   ],
   "source": [
    "df.dtypes #Mostramos el tipo de columna y su dato"
   ]
  },
  {
   "cell_type": "code",
   "execution_count": 7,
   "metadata": {},
   "outputs": [
    {
     "data": {
      "text/plain": [
       "Campaign_ID               19.305019\n",
       "Channel                   19.685039\n",
       "Product_Category          18.726592\n",
       "Region                    19.157088\n",
       "Budget                    10.000000\n",
       "Spend                     10.020040\n",
       "Impressions                9.920635\n",
       "Clicks                    10.288066\n",
       "CTR                       10.040161\n",
       "Conversions               10.121457\n",
       "CR                        10.080645\n",
       "Revenue                    9.823183\n",
       "ROI                       10.101010\n",
       "Duration                  10.438413\n",
       "Start_Date                19.305019\n",
       "End_Date                  19.455253\n",
       "Customer_Satisfaction     10.162602\n",
       "Campaign_Effectiveness    10.204082\n",
       "Market_Segment            19.083969\n",
       "dtype: float64"
      ]
     },
     "execution_count": 7,
     "metadata": {},
     "output_type": "execute_result"
    }
   ],
   "source": [
    "df.isnull().sum()\n",
    "percent_df = (5000/(df.isnull().sum()))\n",
    "percent_df"
   ]
  },
  {
   "cell_type": "code",
   "execution_count": 8,
   "metadata": {},
   "outputs": [
    {
     "name": "stdout",
     "output_type": "stream",
     "text": [
      "0\n"
     ]
    }
   ],
   "source": [
    "# Se analiza si hay filas duplicadas\n",
    "duplicados = df.duplicated().sum()\n",
    "print(duplicados)"
   ]
  },
  {
   "cell_type": "markdown",
   "metadata": {},
   "source": [
    "Siendo una empresa de Marketing al no tener referencia de la campaña procedemos en corregir estos valores, siendo esto enviado en modo sequenciual."
   ]
  },
  {
   "cell_type": "code",
   "execution_count": 24,
   "metadata": {},
   "outputs": [],
   "source": [
    "for i in range(len(df)):\n",
    "    # Si Campaign_ID está nulo, generamos el siguiente ID\n",
    "    if pd.isna(df.loc[i, 'Campaign_ID']):\n",
    "        # Generamos el ID usando el índice actual más 1, ajustando con ceros\n",
    "        df.loc[i, 'Campaign_ID'] = f\"CAM{str(i + 1).zfill(4)}\"\n",
    "# Guardamos el archivo con los cambios\n",
    "df.to_csv('/Users/fdi/Documents/GitHub/Modulo1_Proyecto/mcp_1r.csv', index=False)"
   ]
  },
  {
   "cell_type": "code",
   "execution_count": 23,
   "metadata": {},
   "outputs": [],
   "source": [
    "df2 = pd.read_csv('/Users/fdi/Documents/GitHub/Modulo1_Proyecto/mcp_1r.csv')"
   ]
  },
  {
   "cell_type": "code",
   "execution_count": 24,
   "metadata": {},
   "outputs": [
    {
     "data": {
      "text/plain": [
       "Campaign_ID                     inf\n",
       "Channel                   19.685039\n",
       "Product_Category          18.726592\n",
       "Region                    19.157088\n",
       "Budget                    10.000000\n",
       "Spend                     10.020040\n",
       "Impressions                9.920635\n",
       "Clicks                    10.288066\n",
       "CTR                       10.040161\n",
       "Conversions               10.121457\n",
       "CR                        10.080645\n",
       "Revenue                    9.823183\n",
       "ROI                       10.101010\n",
       "Duration                  10.438413\n",
       "Start_Date                19.305019\n",
       "End_Date                  19.455253\n",
       "Customer_Satisfaction     10.162602\n",
       "Campaign_Effectiveness    10.204082\n",
       "Market_Segment            19.083969\n",
       "dtype: float64"
      ]
     },
     "execution_count": 24,
     "metadata": {},
     "output_type": "execute_result"
    }
   ],
   "source": [
    "df2.isnull().sum()\n",
    "percent_df2 = (5000/(df2.isnull().sum()))\n",
    "percent_df2"
   ]
  },
  {
   "cell_type": "code",
   "execution_count": 25,
   "metadata": {},
   "outputs": [
    {
     "data": {
      "text/html": [
       "<div>\n",
       "<style scoped>\n",
       "    .dataframe tbody tr th:only-of-type {\n",
       "        vertical-align: middle;\n",
       "    }\n",
       "\n",
       "    .dataframe tbody tr th {\n",
       "        vertical-align: top;\n",
       "    }\n",
       "\n",
       "    .dataframe thead th {\n",
       "        text-align: right;\n",
       "    }\n",
       "</style>\n",
       "<table border=\"1\" class=\"dataframe\">\n",
       "  <thead>\n",
       "    <tr style=\"text-align: right;\">\n",
       "      <th></th>\n",
       "      <th>Campaign_ID</th>\n",
       "      <th>Channel</th>\n",
       "      <th>Product_Category</th>\n",
       "      <th>Region</th>\n",
       "      <th>Budget</th>\n",
       "      <th>Spend</th>\n",
       "      <th>Impressions</th>\n",
       "      <th>Clicks</th>\n",
       "      <th>CTR</th>\n",
       "      <th>Conversions</th>\n",
       "      <th>CR</th>\n",
       "      <th>Revenue</th>\n",
       "      <th>ROI</th>\n",
       "      <th>Duration</th>\n",
       "      <th>Start_Date</th>\n",
       "      <th>End_Date</th>\n",
       "      <th>Customer_Satisfaction</th>\n",
       "      <th>Campaign_Effectiveness</th>\n",
       "      <th>Market_Segment</th>\n",
       "    </tr>\n",
       "  </thead>\n",
       "  <tbody>\n",
       "    <tr>\n",
       "      <th>0</th>\n",
       "      <td>CAM0001</td>\n",
       "      <td>Billboard</td>\n",
       "      <td>Fashion</td>\n",
       "      <td>Kuala Lumpur</td>\n",
       "      <td>484341.0</td>\n",
       "      <td>197038.0</td>\n",
       "      <td>545901.000</td>\n",
       "      <td>NaN</td>\n",
       "      <td>0.0785</td>\n",
       "      <td>7993.0</td>\n",
       "      <td>0.3414</td>\n",
       "      <td>849005.0</td>\n",
       "      <td>0.640000</td>\n",
       "      <td>212.0</td>\n",
       "      <td>2/3/2023</td>\n",
       "      <td>23/12/2023</td>\n",
       "      <td>3.0</td>\n",
       "      <td>3.0</td>\n",
       "      <td>Medium</td>\n",
       "    </tr>\n",
       "    <tr>\n",
       "      <th>1</th>\n",
       "      <td>CAM0002</td>\n",
       "      <td>Unknown</td>\n",
       "      <td>Health</td>\n",
       "      <td>Sarawak</td>\n",
       "      <td>468792.0</td>\n",
       "      <td>33743.0</td>\n",
       "      <td>527513.000</td>\n",
       "      <td>4130.0</td>\n",
       "      <td>0.9479</td>\n",
       "      <td>9459.0</td>\n",
       "      <td>NaN</td>\n",
       "      <td>921078.0</td>\n",
       "      <td>3.780000</td>\n",
       "      <td>29.0</td>\n",
       "      <td>NaN</td>\n",
       "      <td>NaN</td>\n",
       "      <td>3.0</td>\n",
       "      <td>7.0</td>\n",
       "      <td>Medium</td>\n",
       "    </tr>\n",
       "    <tr>\n",
       "      <th>2</th>\n",
       "      <td>CAM0003</td>\n",
       "      <td>Radio</td>\n",
       "      <td>Electronics</td>\n",
       "      <td>Penang</td>\n",
       "      <td>10487.0</td>\n",
       "      <td>6745.0</td>\n",
       "      <td>806911.000</td>\n",
       "      <td>12209.0</td>\n",
       "      <td>NaN</td>\n",
       "      <td>7168.0</td>\n",
       "      <td>0.0517</td>\n",
       "      <td>51142.0</td>\n",
       "      <td>3.640000</td>\n",
       "      <td>74.0</td>\n",
       "      <td>12/4/2023</td>\n",
       "      <td>20/10/2023</td>\n",
       "      <td>1.0</td>\n",
       "      <td>2.0</td>\n",
       "      <td>Medium</td>\n",
       "    </tr>\n",
       "    <tr>\n",
       "      <th>3</th>\n",
       "      <td>CAM0004</td>\n",
       "      <td>Email</td>\n",
       "      <td>Electronics</td>\n",
       "      <td>Penang</td>\n",
       "      <td>345431.0</td>\n",
       "      <td>329112.0</td>\n",
       "      <td>108570.000</td>\n",
       "      <td>34391.0</td>\n",
       "      <td>0.6157</td>\n",
       "      <td>7190.0</td>\n",
       "      <td>0.3579</td>\n",
       "      <td>191887.0</td>\n",
       "      <td>2.640000</td>\n",
       "      <td>67.0</td>\n",
       "      <td>24/4/2023</td>\n",
       "      <td>26/1/2023</td>\n",
       "      <td>5.0</td>\n",
       "      <td>6.0</td>\n",
       "      <td>High</td>\n",
       "    </tr>\n",
       "    <tr>\n",
       "      <th>4</th>\n",
       "      <td>CAM0005</td>\n",
       "      <td>Radio</td>\n",
       "      <td>Fashion</td>\n",
       "      <td>Kuala Lumpur</td>\n",
       "      <td>322345.0</td>\n",
       "      <td>34365.0</td>\n",
       "      <td>799855.000</td>\n",
       "      <td>13056.0</td>\n",
       "      <td>NaN</td>\n",
       "      <td>1794.0</td>\n",
       "      <td>0.0544</td>\n",
       "      <td>167241.0</td>\n",
       "      <td>1.020000</td>\n",
       "      <td>40.0</td>\n",
       "      <td>10/1/2023</td>\n",
       "      <td>1/1/2023</td>\n",
       "      <td>5.0</td>\n",
       "      <td>6.0</td>\n",
       "      <td>Low</td>\n",
       "    </tr>\n",
       "    <tr>\n",
       "      <th>...</th>\n",
       "      <td>...</td>\n",
       "      <td>...</td>\n",
       "      <td>...</td>\n",
       "      <td>...</td>\n",
       "      <td>...</td>\n",
       "      <td>...</td>\n",
       "      <td>...</td>\n",
       "      <td>...</td>\n",
       "      <td>...</td>\n",
       "      <td>...</td>\n",
       "      <td>...</td>\n",
       "      <td>...</td>\n",
       "      <td>...</td>\n",
       "      <td>...</td>\n",
       "      <td>...</td>\n",
       "      <td>...</td>\n",
       "      <td>...</td>\n",
       "      <td>...</td>\n",
       "      <td>...</td>\n",
       "    </tr>\n",
       "    <tr>\n",
       "      <th>4995</th>\n",
       "      <td>CAM4996</td>\n",
       "      <td>Email</td>\n",
       "      <td>Automotive</td>\n",
       "      <td>Kuala Lumpur</td>\n",
       "      <td>373204.0</td>\n",
       "      <td>239182.0</td>\n",
       "      <td>947505.000</td>\n",
       "      <td>27359.0</td>\n",
       "      <td>0.4446</td>\n",
       "      <td>2725.0</td>\n",
       "      <td>0.1643</td>\n",
       "      <td>739721.0</td>\n",
       "      <td>17.287862</td>\n",
       "      <td>170.0</td>\n",
       "      <td>4/4/2023</td>\n",
       "      <td>15/12/2023</td>\n",
       "      <td>4.0</td>\n",
       "      <td>5.0</td>\n",
       "      <td>Low</td>\n",
       "    </tr>\n",
       "    <tr>\n",
       "      <th>4996</th>\n",
       "      <td>CAM4997</td>\n",
       "      <td>Radio</td>\n",
       "      <td>Electronics</td>\n",
       "      <td>Kuala Lumpur</td>\n",
       "      <td>81357.0</td>\n",
       "      <td>381641.0</td>\n",
       "      <td>270685.000</td>\n",
       "      <td>2575.0</td>\n",
       "      <td>0.8224</td>\n",
       "      <td>1555.0</td>\n",
       "      <td>0.2425</td>\n",
       "      <td>324435.0</td>\n",
       "      <td>1.500000</td>\n",
       "      <td>148.0</td>\n",
       "      <td>28/1/2023</td>\n",
       "      <td>26/12/2023</td>\n",
       "      <td>2.0</td>\n",
       "      <td>7.0</td>\n",
       "      <td>Low</td>\n",
       "    </tr>\n",
       "    <tr>\n",
       "      <th>4997</th>\n",
       "      <td>CAM4998</td>\n",
       "      <td>Radio</td>\n",
       "      <td>Unknown</td>\n",
       "      <td>Kuala Lumpur</td>\n",
       "      <td>216060.0</td>\n",
       "      <td>122475.0</td>\n",
       "      <td>6042568.044</td>\n",
       "      <td>42563.0</td>\n",
       "      <td>0.5894</td>\n",
       "      <td>NaN</td>\n",
       "      <td>NaN</td>\n",
       "      <td>647246.0</td>\n",
       "      <td>NaN</td>\n",
       "      <td>340.0</td>\n",
       "      <td>7/6/2023</td>\n",
       "      <td>6/12/2023</td>\n",
       "      <td>3.0</td>\n",
       "      <td>5.0</td>\n",
       "      <td>NaN</td>\n",
       "    </tr>\n",
       "    <tr>\n",
       "      <th>4998</th>\n",
       "      <td>CAM4999</td>\n",
       "      <td>Social Media</td>\n",
       "      <td>Electronics</td>\n",
       "      <td>Kuala Lumpur</td>\n",
       "      <td>120531.0</td>\n",
       "      <td>433558.0</td>\n",
       "      <td>857140.000</td>\n",
       "      <td>7037.0</td>\n",
       "      <td>0.2863</td>\n",
       "      <td>3374.0</td>\n",
       "      <td>0.9039</td>\n",
       "      <td>373110.0</td>\n",
       "      <td>0.390000</td>\n",
       "      <td>76.0</td>\n",
       "      <td>2/11/2023</td>\n",
       "      <td>23/8/2023</td>\n",
       "      <td>2.0</td>\n",
       "      <td>1.0</td>\n",
       "      <td>Medium</td>\n",
       "    </tr>\n",
       "    <tr>\n",
       "      <th>4999</th>\n",
       "      <td>CAM5000</td>\n",
       "      <td>TV</td>\n",
       "      <td>Automotive</td>\n",
       "      <td>Sabah</td>\n",
       "      <td>476378.0</td>\n",
       "      <td>261529.0</td>\n",
       "      <td>308009.000</td>\n",
       "      <td>45922.0</td>\n",
       "      <td>0.5187</td>\n",
       "      <td>3047.0</td>\n",
       "      <td>0.0438</td>\n",
       "      <td>146303.0</td>\n",
       "      <td>0.770000</td>\n",
       "      <td>330.0</td>\n",
       "      <td>1/1/2023</td>\n",
       "      <td>6/11/2023</td>\n",
       "      <td>1.0</td>\n",
       "      <td>1.0</td>\n",
       "      <td>High</td>\n",
       "    </tr>\n",
       "  </tbody>\n",
       "</table>\n",
       "<p>5000 rows × 19 columns</p>\n",
       "</div>"
      ],
      "text/plain": [
       "     Campaign_ID       Channel Product_Category        Region    Budget  \\\n",
       "0        CAM0001     Billboard          Fashion  Kuala Lumpur  484341.0   \n",
       "1        CAM0002       Unknown           Health       Sarawak  468792.0   \n",
       "2        CAM0003         Radio      Electronics        Penang   10487.0   \n",
       "3        CAM0004         Email      Electronics        Penang  345431.0   \n",
       "4        CAM0005         Radio          Fashion  Kuala Lumpur  322345.0   \n",
       "...          ...           ...              ...           ...       ...   \n",
       "4995     CAM4996         Email       Automotive  Kuala Lumpur  373204.0   \n",
       "4996     CAM4997         Radio      Electronics  Kuala Lumpur   81357.0   \n",
       "4997     CAM4998         Radio          Unknown  Kuala Lumpur  216060.0   \n",
       "4998     CAM4999  Social Media      Electronics  Kuala Lumpur  120531.0   \n",
       "4999     CAM5000            TV       Automotive         Sabah  476378.0   \n",
       "\n",
       "         Spend  Impressions   Clicks     CTR  Conversions      CR   Revenue  \\\n",
       "0     197038.0   545901.000      NaN  0.0785       7993.0  0.3414  849005.0   \n",
       "1      33743.0   527513.000   4130.0  0.9479       9459.0     NaN  921078.0   \n",
       "2       6745.0   806911.000  12209.0     NaN       7168.0  0.0517   51142.0   \n",
       "3     329112.0   108570.000  34391.0  0.6157       7190.0  0.3579  191887.0   \n",
       "4      34365.0   799855.000  13056.0     NaN       1794.0  0.0544  167241.0   \n",
       "...        ...          ...      ...     ...          ...     ...       ...   \n",
       "4995  239182.0   947505.000  27359.0  0.4446       2725.0  0.1643  739721.0   \n",
       "4996  381641.0   270685.000   2575.0  0.8224       1555.0  0.2425  324435.0   \n",
       "4997  122475.0  6042568.044  42563.0  0.5894          NaN     NaN  647246.0   \n",
       "4998  433558.0   857140.000   7037.0  0.2863       3374.0  0.9039  373110.0   \n",
       "4999  261529.0   308009.000  45922.0  0.5187       3047.0  0.0438  146303.0   \n",
       "\n",
       "            ROI  Duration Start_Date    End_Date  Customer_Satisfaction  \\\n",
       "0      0.640000     212.0   2/3/2023  23/12/2023                    3.0   \n",
       "1      3.780000      29.0        NaN         NaN                    3.0   \n",
       "2      3.640000      74.0  12/4/2023  20/10/2023                    1.0   \n",
       "3      2.640000      67.0  24/4/2023   26/1/2023                    5.0   \n",
       "4      1.020000      40.0  10/1/2023    1/1/2023                    5.0   \n",
       "...         ...       ...        ...         ...                    ...   \n",
       "4995  17.287862     170.0   4/4/2023  15/12/2023                    4.0   \n",
       "4996   1.500000     148.0  28/1/2023  26/12/2023                    2.0   \n",
       "4997        NaN     340.0   7/6/2023   6/12/2023                    3.0   \n",
       "4998   0.390000      76.0  2/11/2023   23/8/2023                    2.0   \n",
       "4999   0.770000     330.0   1/1/2023   6/11/2023                    1.0   \n",
       "\n",
       "      Campaign_Effectiveness Market_Segment  \n",
       "0                        3.0         Medium  \n",
       "1                        7.0         Medium  \n",
       "2                        2.0         Medium  \n",
       "3                        6.0           High  \n",
       "4                        6.0            Low  \n",
       "...                      ...            ...  \n",
       "4995                     5.0            Low  \n",
       "4996                     7.0            Low  \n",
       "4997                     5.0            NaN  \n",
       "4998                     1.0         Medium  \n",
       "4999                     1.0           High  \n",
       "\n",
       "[5000 rows x 19 columns]"
      ]
     },
     "execution_count": 25,
     "metadata": {},
     "output_type": "execute_result"
    }
   ],
   "source": [
    "# Se van actualizando filas y columnas de texto donde hay valores nulos en la columnas: Channel, Product_Category y Region\n",
    "df2[['Channel', 'Product_Category', 'Region']] = df2[['Channel', 'Product_Category', 'Region']].fillna('Unknown')\n",
    "df2"
   ]
  },
  {
   "cell_type": "code",
   "execution_count": 26,
   "metadata": {},
   "outputs": [
    {
     "data": {
      "text/plain": [
       "(4743, 19)"
      ]
     },
     "execution_count": 26,
     "metadata": {},
     "output_type": "execute_result"
    }
   ],
   "source": [
    "# Eliminamos las filas donde hay valores nulo en la columna End_Date\n",
    "df2 = df2.dropna(subset=['End_Date'])\n",
    "df2.shape"
   ]
  },
  {
   "cell_type": "code",
   "execution_count": 27,
   "metadata": {},
   "outputs": [],
   "source": [
    "# Eliminar filas que tienen valores nulos en la columna 'Channel, Product_Category y Region\n",
    "# df_no_chanel = df2.dropna(subset=['Channel'])\n",
    "# df_no_pc = df_no_chanel.dropna(subset=['Product_Category'])\n",
    "# df_no_region = df_no_pc.dropna(subset=['Region'])\n",
    "\n",
    "# Filtrar la columna Duration eliminando los valores nulos o mayores a 1000\n",
    "df_no_duration = df2.dropna(subset=['Duration'])\n",
    "# df_no_duration = df_no_duration[df_no_duration['Duration'] <= 1000]\n",
    "\n",
    "df3 = df_no_duration.copy()"
   ]
  },
  {
   "cell_type": "code",
   "execution_count": 28,
   "metadata": {},
   "outputs": [
    {
     "data": {
      "text/plain": [
       "(4280, 19)"
      ]
     },
     "execution_count": 28,
     "metadata": {},
     "output_type": "execute_result"
    }
   ],
   "source": [
    "df3.shape"
   ]
  },
  {
   "cell_type": "code",
   "execution_count": 29,
   "metadata": {},
   "outputs": [],
   "source": [
    "# Convertir la columna End_Date a formato de fecha\n",
    "df3['End_Date'] = pd.to_datetime(df3['End_Date'], format='%d/%m/%Y', errors='coerce')\n",
    "\n",
    "# Calcular Start_Date quitando Duration a End_Date\n",
    "df3['Start_Date'] = df3.apply(lambda row: row['End_Date'] - timedelta(days=row['Duration']) if pd.notna(row['End_Date']) and pd.notna(row['Duration']) else row['Start_Date'], axis=1)\n",
    "\n",
    "# Convertir de nuevo End_Date al formato DD/MM/YYYY en formato de texto\n",
    "df3['End_Date'] = df3['End_Date'].dt.strftime('%d/%m/%Y')\n",
    "\n",
    "# Converto el campo Start_Date de texto a fecha y despues al formato europeo\n",
    "df3['Start_Date'] = pd.to_datetime(df3['Start_Date'], format='%Y/%m/%d %H:%M:%S', errors='coerce')\n",
    "df3['Start_Date'] = df3['Start_Date'].dt.strftime('%d/%m/%Y')"
   ]
  },
  {
   "cell_type": "code",
   "execution_count": 30,
   "metadata": {},
   "outputs": [],
   "source": [
    "# Se van a remplazar los valores en la columna Customer_Satisfaction que estan fuera del rango 1-5 por NaN\n",
    "df3['Customer_Satisfaction'] = df3['Customer_Satisfaction'].apply(lambda x: x if 1 <= x <= 5 else np.nan)\n"
   ]
  },
  {
   "cell_type": "code",
   "execution_count": 31,
   "metadata": {},
   "outputs": [],
   "source": [
    "# Seleccionar solo las filas sin valores nulos en Customer_Satisfaction y Revenue para el entrenamiento del modelo\n",
    "train_data = df3.dropna(subset=['Customer_Satisfaction', 'Revenue'])\n",
    "\n",
    "# Separar características (X) y objetivo (y)\n",
    "X_train = train_data[['Revenue']]\n",
    "y_train = train_data['Customer_Satisfaction']\n",
    "\n",
    "# Llenar valores nulos en las características (en este caso, sólo Revenue) si es necesario\n",
    "imputer = SimpleImputer(strategy='mean')\n",
    "X_train = imputer.fit_transform(X_train)\n",
    "\n",
    "# Crear el modelo de regresión\n",
    "model = RandomForestRegressor(n_estimators=100, random_state=0)\n",
    "model.fit(X_train, y_train)\n",
    "\n",
    "# Identificar los valores nulos en Customer_Satisfaction para predecirlos\n",
    "X_missing = df3.loc[df3['Customer_Satisfaction'].isna(), ['Revenue']]\n",
    "X_missing = imputer.transform(X_missing)\n",
    "\n",
    "# Predecir los valores de Customer_Satisfaction para los valores nulos\n",
    "df3.loc[df3['Customer_Satisfaction'].isna(), 'Customer_Satisfaction'] = model.predict(X_missing)"
   ]
  },
  {
   "cell_type": "code",
   "execution_count": 32,
   "metadata": {},
   "outputs": [
    {
     "data": {
      "text/html": [
       "<div>\n",
       "<style scoped>\n",
       "    .dataframe tbody tr th:only-of-type {\n",
       "        vertical-align: middle;\n",
       "    }\n",
       "\n",
       "    .dataframe tbody tr th {\n",
       "        vertical-align: top;\n",
       "    }\n",
       "\n",
       "    .dataframe thead th {\n",
       "        text-align: right;\n",
       "    }\n",
       "</style>\n",
       "<table border=\"1\" class=\"dataframe\">\n",
       "  <thead>\n",
       "    <tr style=\"text-align: right;\">\n",
       "      <th></th>\n",
       "      <th>Campaign_ID</th>\n",
       "      <th>Channel</th>\n",
       "      <th>Product_Category</th>\n",
       "      <th>Region</th>\n",
       "      <th>Budget</th>\n",
       "      <th>Spend</th>\n",
       "      <th>Impressions</th>\n",
       "      <th>Clicks</th>\n",
       "      <th>CTR</th>\n",
       "      <th>Conversions</th>\n",
       "      <th>CR</th>\n",
       "      <th>Revenue</th>\n",
       "      <th>ROI</th>\n",
       "      <th>Duration</th>\n",
       "      <th>Start_Date</th>\n",
       "      <th>End_Date</th>\n",
       "      <th>Customer_Satisfaction</th>\n",
       "      <th>Campaign_Effectiveness</th>\n",
       "      <th>Market_Segment</th>\n",
       "    </tr>\n",
       "  </thead>\n",
       "  <tbody>\n",
       "  </tbody>\n",
       "</table>\n",
       "</div>"
      ],
      "text/plain": [
       "Empty DataFrame\n",
       "Columns: [Campaign_ID, Channel, Product_Category, Region, Budget, Spend, Impressions, Clicks, CTR, Conversions, CR, Revenue, ROI, Duration, Start_Date, End_Date, Customer_Satisfaction, Campaign_Effectiveness, Market_Segment]\n",
       "Index: []"
      ]
     },
     "execution_count": 32,
     "metadata": {},
     "output_type": "execute_result"
    }
   ],
   "source": [
    "# Se comprueba que nos hayan quedados valores nulos en la columna Customer_Satisfaction\n",
    "nulos = df3[df3['Customer_Satisfaction'].isnull()]\n",
    "nulos"
   ]
  },
  {
   "cell_type": "code",
   "execution_count": 33,
   "metadata": {},
   "outputs": [],
   "source": [
    "# Se van a remplazar los valores en la columna Campaign_Effectiveness que estan fuera del rango 1-10 por NaN\n",
    "df3['Campaign_Effectiveness'] = df3['Campaign_Effectiveness'].apply(lambda x: x if 1 <= x <= 10 else np.nan)"
   ]
  },
  {
   "cell_type": "code",
   "execution_count": 34,
   "metadata": {},
   "outputs": [],
   "source": [
    "# Seleccionar solo las filas sin valores nulos en Campaign_Effectiveness y Revenue para el entrenamiento del modelo\n",
    "train_data = df3.dropna(subset=['Campaign_Effectiveness', 'Revenue'])\n",
    "\n",
    "# Separar características (X) y objetivo (y)\n",
    "X_train = train_data[['Revenue']]\n",
    "y_train = train_data['Campaign_Effectiveness']\n",
    "\n",
    "# Llenar valores nulos en las características (en este caso, sólo Revenue) si es necesario\n",
    "imputer = SimpleImputer(strategy='mean')\n",
    "X_train = imputer.fit_transform(X_train)\n",
    "\n",
    "# Crear el modelo de regresión\n",
    "model = RandomForestRegressor(n_estimators=100, random_state=0)\n",
    "model.fit(X_train, y_train)\n",
    "\n",
    "# Identificar los valores nulos en Campaign_Effectiveness para predecirlos\n",
    "X_missing = df3.loc[df3['Campaign_Effectiveness'].isna(), ['Revenue']]\n",
    "X_missing = imputer.transform(X_missing)\n",
    "\n",
    "# Predecir los valores de Campaign_Effectiveness para los valores nulos\n",
    "df3.loc[df3['Campaign_Effectiveness'].isna(), 'Campaign_Effectiveness'] = model.predict(X_missing)"
   ]
  },
  {
   "cell_type": "code",
   "execution_count": 35,
   "metadata": {},
   "outputs": [
    {
     "data": {
      "text/html": [
       "<div>\n",
       "<style scoped>\n",
       "    .dataframe tbody tr th:only-of-type {\n",
       "        vertical-align: middle;\n",
       "    }\n",
       "\n",
       "    .dataframe tbody tr th {\n",
       "        vertical-align: top;\n",
       "    }\n",
       "\n",
       "    .dataframe thead th {\n",
       "        text-align: right;\n",
       "    }\n",
       "</style>\n",
       "<table border=\"1\" class=\"dataframe\">\n",
       "  <thead>\n",
       "    <tr style=\"text-align: right;\">\n",
       "      <th></th>\n",
       "      <th>Campaign_ID</th>\n",
       "      <th>Channel</th>\n",
       "      <th>Product_Category</th>\n",
       "      <th>Region</th>\n",
       "      <th>Budget</th>\n",
       "      <th>Spend</th>\n",
       "      <th>Impressions</th>\n",
       "      <th>Clicks</th>\n",
       "      <th>CTR</th>\n",
       "      <th>Conversions</th>\n",
       "      <th>CR</th>\n",
       "      <th>Revenue</th>\n",
       "      <th>ROI</th>\n",
       "      <th>Duration</th>\n",
       "      <th>Start_Date</th>\n",
       "      <th>End_Date</th>\n",
       "      <th>Customer_Satisfaction</th>\n",
       "      <th>Campaign_Effectiveness</th>\n",
       "      <th>Market_Segment</th>\n",
       "    </tr>\n",
       "  </thead>\n",
       "  <tbody>\n",
       "  </tbody>\n",
       "</table>\n",
       "</div>"
      ],
      "text/plain": [
       "Empty DataFrame\n",
       "Columns: [Campaign_ID, Channel, Product_Category, Region, Budget, Spend, Impressions, Clicks, CTR, Conversions, CR, Revenue, ROI, Duration, Start_Date, End_Date, Customer_Satisfaction, Campaign_Effectiveness, Market_Segment]\n",
       "Index: []"
      ]
     },
     "execution_count": 35,
     "metadata": {},
     "output_type": "execute_result"
    }
   ],
   "source": [
    "# Se comprueba que nos hayan quedados valores nulos en la columna Campaign_Effectiveness\n",
    "nulos = df3[df3['Campaign_Effectiveness'].isnull()]\n",
    "nulos"
   ]
  },
  {
   "cell_type": "markdown",
   "metadata": {},
   "source": [
    "Usar KNN para resolver lo valores nulo."
   ]
  },
  {
   "cell_type": "code",
   "execution_count": 36,
   "metadata": {},
   "outputs": [
    {
     "data": {
      "image/png": "[encoded data removed]",
      "text/plain": [
       "<Figure size 800x400 with 1 Axes>"
      ]
     },
     "metadata": {},
     "output_type": "display_data"
    },
    {
     "data": {
      "image/png": "[encoded data removed]",
      "text/plain": [
       "<Figure size 800x400 with 1 Axes>"
      ]
     },
     "metadata": {},
     "output_type": "display_data"
    },
    {
     "data": {
      "image/png": "[encoded data removed]",
      "text/plain": [
       "<Figure size 800x400 with 1 Axes>"
      ]
     },
     "metadata": {},
     "output_type": "display_data"
    },
    {
     "data": {
      "image/png": "[encoded data removed]",
      "text/plain": [
       "<Figure size 800x400 with 1 Axes>"
      ]
     },
     "metadata": {},
     "output_type": "display_data"
    },
    {
     "data": {
      "image/png": "[encoded data removed]",
      "text/plain": [
       "<Figure size 800x400 with 1 Axes>"
      ]
     },
     "metadata": {},
     "output_type": "display_data"
    },
    {
     "data": {
      "image/png": "[encoded data removed]",
      "text/plain": [
       "<Figure size 800x400 with 1 Axes>"
      ]
     },
     "metadata": {},
     "output_type": "display_data"
    },
    {
     "data": {
      "image/png": "[encoded data removed]",
      "text/plain": [
       "<Figure size 800x400 with 1 Axes>"
      ]
     },
     "metadata": {},
     "output_type": "display_data"
    },
    {
     "data": {
      "image/png": "[encoded data removed]",
      "text/plain": [
       "<Figure size 800x400 with 1 Axes>"
      ]
     },
     "metadata": {},
     "output_type": "display_data"
    },
    {
     "data": {
      "image/png": "[encoded data removed]",
      "text/plain": [
       "<Figure size 800x400 with 1 Axes>"
      ]
     },
     "metadata": {},
     "output_type": "display_data"
    },
    {
     "data": {
      "image/png": "[encoded data removed]",
      "text/plain": [
       "<Figure size 800x400 with 1 Axes>"
      ]
     },
     "metadata": {},
     "output_type": "display_data"
    },
    {
     "data": {
      "image/png": "[encoded data removed]",
      "text/plain": [
       "<Figure size 800x400 with 1 Axes>"
      ]
     },
     "metadata": {},
     "output_type": "display_data"
    },
    {
     "data": {
      "image/png": "[encoded data removed]",
      "text/plain": [
       "<Figure size 800x400 with 1 Axes>"
      ]
     },
     "metadata": {},
     "output_type": "display_data"
    }
   ],
   "source": [
    "# Filtrar solo las columnas numéricas\n",
    "numerical_columns = df3.select_dtypes(include='number').columns\n",
    "\n",
    "# Crear un boxplot para cada columna numérica\n",
    "for column in numerical_columns:\n",
    "    plt.figure(figsize=(8, 4))\n",
    "    plt.boxplot(df3[column].dropna(), vert=False)\n",
    "    plt.title(f'Boxplot de {column}')\n",
    "    plt.xlabel(column)\n",
    "    plt.show()"
   ]
  },
  {
   "cell_type": "code",
   "execution_count": 37,
   "metadata": {},
   "outputs": [
    {
     "name": "stdout",
     "output_type": "stream",
     "text": [
      "Cantidad de outliers en cada columna numérica:\n",
      "Budget: 82\n",
      "Spend: 82\n",
      "Impressions: 76\n",
      "Clicks: 51\n",
      "CTR: 60\n",
      "Conversions: 66\n",
      "CR: 52\n",
      "Revenue: 75\n",
      "ROI: 70\n",
      "Duration: 60\n",
      "Customer_Satisfaction: 0\n",
      "Campaign_Effectiveness: 0\n"
     ]
    }
   ],
   "source": [
    "# Calcular y contar los outliers para cada columna numérica\n",
    "outliers_count = {}\n",
    "for column in numerical_columns:\n",
    "    # Calcular Q1 y Q3\n",
    "    Q1 = df3[column].quantile(0.25)\n",
    "    Q3 = df3[column].quantile(0.75)\n",
    "    IQR = Q3 - Q1\n",
    "\n",
    "    # Calcular los límites de los outliers\n",
    "    lower_bound = Q1 - 1.5 * IQR\n",
    "    upper_bound = Q3 + 1.5 * IQR\n",
    "\n",
    "    # Contar los valores fuera de estos límites\n",
    "    outliers = df3[(df3[column] < lower_bound) | (df3[column] > upper_bound)]\n",
    "    outliers_count[column] = len(outliers)\n",
    "\n",
    "# Mostrar la cantidad de outliers por columna\n",
    "print(\"Cantidad de outliers en cada columna numérica:\")\n",
    "for column, count in outliers_count.items():\n",
    "    print(f\"{column}: {count}\")"
   ]
  },
  {
   "cell_type": "code",
   "execution_count": 38,
   "metadata": {},
   "outputs": [
    {
     "name": "stdout",
     "output_type": "stream",
     "text": [
      "Distribución de Spend en cada Market_Segment:\n",
      "Market_Segment\n",
      "High      1247\n",
      "Low       1191\n",
      "Medium    1217\n",
      "Name: Spend, dtype: int64\n"
     ]
    }
   ],
   "source": [
    "# Contar cuántos valores están repartidos en cada segmento de Market_Segment respecto a Spend\n",
    "market_segment_spend = df3.groupby('Market_Segment')['Spend'].count()\n",
    "\n",
    "# Mostrar el resultado\n",
    "print(\"Distribución de Spend en cada Market_Segment:\")\n",
    "print(market_segment_spend)"
   ]
  },
  {
   "cell_type": "code",
   "execution_count": 39,
   "metadata": {},
   "outputs": [
    {
     "data": {
      "text/plain": [
       "<Axes: xlabel='Budget', ylabel='Count'>"
      ]
     },
     "execution_count": 39,
     "metadata": {},
     "output_type": "execute_result"
    },
    {
     "data": {
      "image/png": "[encoded data removed]",
      "text/plain": [
       "<Figure size 640x480 with 1 Axes>"
      ]
     },
     "metadata": {},
     "output_type": "display_data"
    }
   ],
   "source": [
    "sns.histplot(df3['Budget'], kde=True, log_scale=True)"
   ]
  }
 ],
 "metadata": {
  "kernelspec": {
   "display_name": "Python 3",
   "language": "python",
   "name": "python3"
  },
  "language_info": {
   "codemirror_mode": {
    "name": "ipython",
    "version": 3
   },
   "file_extension": ".py",
   "mimetype": "text/x-python",
   "name": "python",
   "nbconvert_exporter": "python",
   "pygments_lexer": "ipython3",
   "version": "3.11.9"
  }
 },
 "nbformat": 4,
 "nbformat_minor": 2
}
